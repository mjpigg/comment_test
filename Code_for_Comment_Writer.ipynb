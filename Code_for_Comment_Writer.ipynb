{
 "cells": [
  {
   "cell_type": "markdown",
   "metadata": {
    "collapsed": false
   },
   "source": [
    "### Comment Writing Engine\n",
    "\n",
    "#### an application to help teachers write better comments in less time\n"
   ]
  },
  {
   "cell_type": "markdown",
   "metadata": {
    "collapsed": false
   },
   "source": [
    "**Special Instructions:**\n",
    "\n",
    "To insert shorthand comments, type the following keywords with asterisks on both sides of the keywords:\n",
    "\n",
    "joy: You are a joy to have in class.\n",
    "\n",
    "side conversation: Next semester, please limit your side conversation and listen keenly when your classmates or I am talking. This can help improve the overall focus of the class. \n",
    "\n",
    "next semester: Looking foward to having you in class next semester! \n",
    "\n",
    "help: As always, if you need extra support or just need someone to talk to, feel free to come by and I can help you to the best of my ability. \n",
    "\n",
    "improvement': You showed immense growth in quarter 2 compared to quarter 1, do feel proud of yourself! \n",
    "\n",
    "To choose a specific joke, put a number 1\\-40. If you would like to choose a random joke, put 0.\n"
   ]
  },
  {
   "cell_type": "code",
   "execution_count": 15,
   "metadata": {
    "collapsed": false
   },
   "outputs": [
    {
     "name": "stdout",
     "output_type": "stream",
     "text": [
      "In Biology this semester, we emphasized evolution as the central organizing theory explaining the development and diversity of life on Earth. We learned how to use tenets of physics and chemistry to study such topics as the origins of life, population ecology, biochemistry, cellular organization, cell division, molecular genetics, Mendelian and population genetics, speciation, biogeography, sociobiology, and ecological energetics and ecosystem dynamics.\n",
      "\n",
      "Matt, this semester you exceeded at Learning Outcome 5: \"Using Mathematics and Computational thinking\". You have consistently employed quantitative reasoning and computational techniques to solve scientific problems. Your ability to apply mathematical concepts enhances your ability to analyze data, make predictions, and accurately model real-world phenomena.\n",
      "\n",
      "Matt, additional focus on Learning Outcome 4: \"Analyzing and Interpreting Data\" will help with your continued growth. Although you have demonstrated a systematic approach to data analysis, I would like to see you use your analysis to identify patterns, trends, and relationships with precision. This ability to draw informed conclusions and articulate the significance of your findings will assist you in translating data into valuable scientific knowledge.\n",
      "\n",
      "The topic of Biology's final this semester was evolution. Matt, you received a 2.25 out of 4 on the final. You demonstrated your knowledge well on some areas of this assessment, though were lacking understanding in others. Please set up a meeting with me to further discuss your exam, and some ways you could be better prepared for the next assessment.\n",
      "\n",
      "Matt, although you clearly didn't understand the curriculum, you tried your best and always came in during office hours. As always, if you need extra support or just need someone to talk to, feel free to come by and I can help you to the best of my ability. I hope you review chemistry over the summer and come back stronger next year! \n",
      "\n",
      "Your final grade is: C-. You're making progress, but there are significant areas where you need improvement. Please don't hesitate to ask for help.\n",
      "\n",
      "To end the semester off with a bang, here is a fun joke for you: Why do chemists like nitrates so much? They’re cheaper than day rates.\n",
      "\n"
     ]
    }
   ],
   "source": [
    "# functions and code for reading data files, generating comments and writing them to files\n",
    "\n",
    "import csv\n",
    "def comment(student):\n",
    "    '''\n",
    "    Takes in a student and writes their comment to a txt file.\n",
    "    '''\n",
    "    with open(f\"{student}.txt\", 'w') as file:\n",
    "        file.write(f\"{course_description(student)}\\n\")\n",
    "        file.write(f\"{strength(student)}\\n\")\n",
    "        file.write(f\"{improvement(student)}\\n\")\n",
    "        file.write(f\"{final_assess(student)}\\n\")\n",
    "        file.write(f\"{final_notes(student)}\\n\")\n",
    "    with open(f\"{student}.txt\") as file:\n",
    "        for line in file:\n",
    "            print(line)\n",
    "            \n",
    "comment(\"Matt\")"
   ]
  },
  {
   "cell_type": "code",
   "execution_count": 16,
   "metadata": {
    "collapsed": false
   },
   "outputs": [
    {
     "data": {
      "text/plain": [
       "'In Genetics this semester, we explored the science of heredity, including Mendelian and non-Mendelian patterns of inheritance. In addition, we covered topics such as gene structure and function, gene mutations, gene therapy versus gene editing, biotechnological applications, and the ethical implications such work brings. Next semester, we will dive into topics including genetically modified products, DNA fingerprinting and forensics, and personal genomics. '"
      ]
     },
     "execution_count": 16,
     "metadata": {
     },
     "output_type": "execute_result"
    }
   ],
   "source": [
    "# Course Descriptions\n",
    "\n",
    "def course_description(student):\n",
    "    '''\n",
    "    Takes in a student and returns the course description of the course they are taking.\n",
    "    '''\n",
    "    with open('Kimball.csv') as csvfile:\n",
    "        data = csv.reader(csvfile, delimiter=',')\n",
    "        header = next(data)\n",
    "        for student_info in data:\n",
    "            if student_info[0] == student: # finds corresponding student\n",
    "                with open('Course_Descriptions.csv') as myfile:\n",
    "                    mydata = csv.reader(myfile)\n",
    "                    header = next(mydata)\n",
    "                    for line in mydata:\n",
    "                        if student_info[2].strip().lower() == line[0].strip().lower(): # finds corresponding class\n",
    "                            return line[1] # returns course description of the student's class\n",
    "\n",
    "course_description(\"Bob\")"
   ]
  },
  {
   "cell_type": "code",
   "execution_count": 17,
   "metadata": {
    "collapsed": false
   },
   "outputs": [
    {
     "data": {
      "text/plain": [
       "'Macy, this semester you exceeded at Learning Outcome 3: \"Planning and Carrying Out Investigations\". You have consistently demonstrated the ability to develop clear experimental procedures and effectively implement them, showcasing strong organizational skills. Your commitment to thorough planning shows your dedication to scientific rigor, resulting in insightful findings and meaningful conclusions.'"
      ]
     },
     "execution_count": 17,
     "metadata": {
     },
     "output_type": "execute_result"
    }
   ],
   "source": [
    "#Learning Outcome Strength\n",
    "\n",
    "import csv\n",
    "\n",
    "LEARNING_OUTCOMES = {1: \"Asking Questions and Defining Problems\", 2: \"Developing and Using Models\", 3: \"Planning and Carrying Out Investigations\", 4: \"Analyzing and Interpreting Data\", 5: \"Using Mathematics and Computational thinking\", 6: \"Constructing Explanations and Defining Solutions\", 7: \"Engaging in Argument from Evidence\", 8: \"Obtaining, Evaluating, and Communicating Information\"}\n",
    "\n",
    "strength_comments = {1: \"You have consistently demonstrated a natural curiosity and a proactive approach to learning. Your adeptness at asking questions showcases your critical thinking skills and fosters a collaborative learning environment where your peers are also encouraged to engage deeply with the subject matter. Overall, this strength reflects your commitment to active participation in the learning process and your ability to drive intellectual inquiry forward.\", 2: \"You have consistently demonstrated a strong ability to translate abstract concepts into tangible representations. Your ability to construct and utilize models demonstrates advanced problem-solving skills and helps you effectively communicate complex ideas.\", 3: \"You have consistently demonstrated the ability to develop clear experimental procedures and effectively implement them, showcasing strong organizational skills. Your commitment to thorough planning shows your dedication to scientific rigor, resulting in insightful findings and meaningful conclusions.\", 4: \"You have consistently demonstrated a systematic approach to data analysis, enabling you to identify patterns, trends, and relationships with precision. Moreover, your ability to draw informed conclusions and articulate the significance of your findings underscores your proficiency in translating data into valuable scientific knowledge.\", 5: \"You have consistently employed quantitative reasoning and computational techniques to solve scientific problems. Your ability to apply mathematical concepts enhances your ability to analyze data, make predictions, and accurately model real-world phenomena.\", 6: \"You have consistently demonstrated the ability to formulate coherent and well-supported explanations for scientific phenomena. Your ability to draw upon evidence and reasoning to create solutions to complex problems demonstrates your critical thinking and analytical skills. Moreover, your ability to communicate these explanations showcases your proficiency in scientific inquiry and enhances your ability to contribute meaningfully to scientific exploration.\", 7: \"You have consistently utilized evidence to support your scientific claims and hypotheses. Your ability to construct compelling arguments supported by data and reasoning demonstrates an analytical mindset and critical thinking skills.\", 8: \"You have consistently demonstrated the ability to discern reliable sources and synthesize complex information, which enhances your understanding of scientific concepts. Furthermore, your ability to coherently explain your findings contributes to the advancement of scientific knowledge and promotes informed decision-making.\"}\n",
    "\n",
    "def strength(student):\n",
    "    '''\n",
    "    Takes in a student and returns a string about a learning outcome that they have shown strength in.\n",
    "    '''\n",
    "    with open('Kimball.csv') as csvfile:\n",
    "        data = csv.reader(csvfile, delimiter=',')\n",
    "        header = next(data)\n",
    "        for student_info in data:\n",
    "            if student_info[0] == student:  # finds corresponding student\n",
    "                comment = f'{student_info[0]}, this semester you exceeded at Learning Outcome {student_info[6]}: \"{LEARNING_OUTCOMES[int(student_info[6])]}\". {strength_comments[int(student_info[6])]}' # finds the statement that corresponds to their strength \n",
    "    return comment\n",
    "strength(\"Macy\")\n",
    "        "
   ]
  },
  {
   "cell_type": "code",
   "execution_count": 18,
   "metadata": {
    "collapsed": false
   },
   "outputs": [
    {
     "data": {
      "text/plain": [
       "'Macy, additional focus on Learning Outcome 7: \"Engaging in Argument from Evidence\" will help with your continued growth. You have consistently utilized evidence to support your scientific claims and hypotheses. Your ability to construct compelling arguments supported by data and reasoning demonstrates an analytical mindset and critical thinking skills.'"
      ]
     },
     "execution_count": 18,
     "metadata": {
     },
     "output_type": "execute_result"
    }
   ],
   "source": [
    "#Learning Outcome Improvement\n",
    "\n",
    "import csv\n",
    "LEARNING_OUTCOMES = {1: \"Asking Questions and Defining Problems\", 2: \"Developing and Using Models\", 3: \"Planning and Carrying Out Investigations\", 4: \"Analyzing and Interpreting Data\", 5: \"Using Mathematics and Computational thinking\", 6: \"Constructing Explanations and Defining Solutions\", 7: \"Engaging in Argument from Evidence\", 8: \"Obtaining, Evaluating, and Communicating Information\"}\n",
    "improvement_comments = {1: \"Although you have demonstrated a natural curiosity and a proactive approach to learning, I'd like to see you ask more questions that showcase your critical thinking skills and foster a collaborative learning environment where your peers are also encouraged to engage deeply with the subject matter.\", 2: \"Although you have demonstrated an ability to translate abstract concepts into tangible representations, I'd like to see you take it one step further and think about how you can use those models further in other scientific applications.\", 3: \"Although you have demonstrated the ability to develop experimental procedures and implement them in an organized way, I'd like to see you work on making the procedures more clear. This will further your scientific rigor, resulting in insightful findings and meaningful conclusions.\", 4: \"Although you have demonstrated a systematic approach to data analysis, I would like to see you use your analysis to identify patterns, trends, and relationships with precision. This ability to draw informed conclusions and articulate the significance of your findings will assist you in translating data into valuable scientific knowledge.\", 5: \"Although you have employed quantitative reasoning and computational techniques to solve scientific problems, I think that you lack confidence in your abilities. Going forward, make sure to trust yourself and don't be afraid to make mistakes. If you don't feel solid in a certain concept, take advantage of extra learning resources and worksheets that I will provide.\", 6: \"Although you have demonstrated the ability to formulate coherent and well-supported explanations for scientific phenomena, I would like you to work on drawing upon evidence and reasoning to create solutions to complex problems. This will enhance your ability to contribute meaningfully to scientific exploration.\", 7: \"You have consistently utilized evidence to support your scientific claims and hypotheses. Your ability to construct compelling arguments supported by data and reasoning demonstrates an analytical mindset and critical thinking skills.\", 8: \"Although you have demonstrated the ability to discern reliable sources and synthesize complex information I'd like you to work on explaining how your findings contribute to the advancement of scientific knowledge and promote informed decision-making.\"}\n",
    "\n",
    "def improvement(student):\n",
    "    '''\n",
    "    Takes in a student and returns a string about a learning outcome that they can improve in.\n",
    "    '''\n",
    "    with open('Kimball.csv') as csvfile:\n",
    "        data = csv.reader(csvfile, delimiter=',')\n",
    "        header = next(data)\n",
    "        for student_info in data:\n",
    "            if student_info[0] == student:\n",
    "                comment = f'{student_info[0]}, additional focus on Learning Outcome {student_info[7]}: \"{LEARNING_OUTCOMES[int(student_info[7])]}\" will help with your continued growth. {improvement_comments[int(student_info[7])]}' # finds the statement that corresponds to their strength \n",
    "    return comment\n",
    "improvement(\"Macy\")"
   ]
  },
  {
   "cell_type": "code",
   "execution_count": 19,
   "metadata": {
    "collapsed": false
   },
   "outputs": [
    {
     "name": "stdout",
     "output_type": "stream",
     "text": [
      "The topic of Biology's final this semester was evolution. Matt, you received a 2.25 out of 4 on the final. You demonstrated your knowledge well on some areas of this assessment, though were lacking understanding in others. Please set up a meeting with me to further discuss your exam, and some ways you could be better prepared for the next assessment.\n"
     ]
    }
   ],
   "source": [
    "#work on final assessment\n",
    "\n",
    "GRADE_COMMENTS = {'You demonstrated your knowledge well on some areas of this assessment, though were lacking understanding in others. Please set up a meeting with me to further discuss your exam, and some ways you could be better prepared for the next assessment.':[1,1.25,1.5, 1.75,2,2.25], 'Good work overall on the exam, though there were some gaps in your understanding that limited you from fully explaining the \"why\" behind some concepts we have covered this semester.':[2.5,2.75,3,3.25], 'Wonderful work! Some small errors, but overall you showed very solid understanding of the material. Most impressively, you were able to accurately apply learned concepts to new and challenging scenarios.':[3.5,3.75,4]} #dictionary pairing grades on the final with feedback for that student\n",
    "\n",
    "\n",
    "def final_assess(student):\n",
    "    '''\n",
    "    takes in student name and returns a string about how their work was on their final assessment\n",
    "    '''\n",
    "    comment = '' \n",
    "    with open('Kimball.csv') as file:\n",
    "        header = next(file) #isolates header line\n",
    "        for student_info in file:\n",
    "            student_info = student_info.split(',')\n",
    "            if student_info[0] == student: #finds the information corresponding to the inputed student\n",
    "                comment += f\"The topic of {student_info[2]}'s final this semester was {student_info[4].lower()}. {student_info[0]}, you received a {student_info[5]} out of 4 on the final. \" #adds info about the assessment and their grade to their comment\n",
    "                for grade_comment in GRADE_COMMENTS:\n",
    "                    if student_info[5] in str(GRADE_COMMENTS[grade_comment]):\n",
    "                        comment += grade_comment #finds the statement that cooresponds to their grade and adds it to comment\n",
    "\n",
    "    return comment #returns a section of their comment about their final assessment\n",
    "\n",
    "\n",
    "print(final_assess('Matt'))"
   ]
  },
  {
   "cell_type": "code",
   "execution_count": 0,
   "metadata": {
    "collapsed": false
   },
   "outputs": [
   ],
   "source": [
   ]
  },
  {
   "cell_type": "code",
   "execution_count": 20,
   "metadata": {
    "collapsed": false
   },
   "outputs": [
    {
     "name": "stdout",
     "output_type": "stream",
     "text": [
      "Matt, although you clearly didn't understand the curriculum, you tried your best and always came in during office hours. As always, if you need extra support or just need someone to talk to, feel free to come by and I can help you to the best of my ability. I hope you review chemistry over the summer and come back stronger next year! \n",
      "Your final grade is: C-. You're making progress, but there are significant areas where you need improvement. Please don't hesitate to ask for help.\n",
      "To end the semester off with a bang, here is a fun joke for you: Why do chemists like nitrates so much? They’re cheaper than day rates.\n"
     ]
    }
   ],
   "source": [
    "#Final notes with grade for semester\n",
    "FINAL_GRADE_COMMENTS = {\n",
    "    \"A\": \"Your understanding of the material is exceptional, and your ability to apply concepts to various scenarios is commendable.\",\n",
    "    \"A-\": \"You have a strong grasp of the material and consistently demonstrate critical thinking skills.\",\n",
    "    \"B+\": \"Great job overall, though there are areas where you could further deepen your understanding. Let's discuss strategies for improvement.\",\n",
    "    \"B\": \"Solid effort, but there are some gaps in your understanding that need to be addressed. Please consider seeking extra help or clarification on challenging topics.\",\n",
    "    \"B-\": \"You demonstrated your knowledge well on some areas of this assessment, though were lacking understanding in others. Please set up a meeting with me to further discuss your exam, and some ways you could be better prepared for the next assessment.\",\n",
    "    \"C+\": \"Good work overall on the exam, though there were some gaps in your understanding that limited you from fully explaining the 'why' behind some concepts we have covered this semester. Please find a time when you and your family can meet with me to discuss our plan for your future in this class.\",\n",
    "    \"C\": \"Solid effort, but there are noticeable areas where you could improve. Let's work together to strengthen your understanding.\",\n",
    "    \"C-\": \"You're making progress, but there are significant areas where you need improvement. Please don't hesitate to ask for help.\",\n",
    "    \"D+\": \"Decent effort, but there are considerable gaps in your understanding. Let's discuss strategies to help you catch up.\",\n",
    "    \"D\": \"Your performance indicates some understanding of the material, but significant improvement is needed. Let's talk about how you can better engage with the material.\",\n",
    "    \"D-\": \"There are serious gaps in your understanding of the material. It's crucial that we address these issues promptly.\",\n",
    "    \"F\": \"You're currently not meeting the minimum expectations for this class. Let's work together to turn things around.\",\n",
    "}\n",
    "\n",
    "ENDING_NOTE_COMMENTS = {\n",
    "    'joy':'You are a joy to have in class. ',\n",
    "    'side conversation':'Next semester, please limit your side conversations and listen keenly when your classmates or I am talking. This can help improve the overall focus of the class. ',\n",
    "    'next semester':'Looking foward to having you in class next semester! ',\n",
    "    'help':'As always, if you need extra support or just need someone to talk to, feel free to come by and I can help you to the best of my ability. ',\n",
    "    'improvement':'You showed immense growth in quarter 2 compared to quarter 1, do feel proud of yourself! '\n",
    "    \n",
    "}\n",
    "import random as rand\n",
    "\n",
    "def final_notes(student:str):\n",
    "    '''\n",
    "    takes in a student name and returns a string including your final notes about them, their cumulative grade, and a fun pun.\n",
    "    '''\n",
    "    with open('Kimball.csv') as csvfile:\n",
    "        data = csv.reader(csvfile)\n",
    "        header = next(data)\n",
    "        notes = ''\n",
    "        for line in data:\n",
    "            if line[0] == student:\n",
    "                joke = int(line[-1]) #defines the joke variable as the inputted value\n",
    "                if joke  == 0:\n",
    "                    joke = rand.randint(1,41) #randomizes joke if the value is 0\n",
    "                comment = line[8].split('*')\n",
    "                for i in range(len(comment)):\n",
    "                    if comment[i].lower() in ENDING_NOTE_COMMENTS:\n",
    "                        comment[i]= ENDING_NOTE_COMMENTS[comment[i]] #replaces the keywords in the ending notes separated with asterisks with the corresponding sentences\n",
    "                comment = ''.join(comment) #rejoins the comment\n",
    "                notes = comment.strip() + ' ' + f'\\nYour final grade is: {line[3]}. ' + FINAL_GRADE_COMMENTS[line[3]] + '\\nTo end the semester off with a bang, here is a fun joke for you: ' + chemistry_puns[joke] #combines the whole comment into a string to return\n",
    "    return notes\n",
    "                \n",
    "print(final_notes('Matt'))     "
   ]
  },
  {
   "cell_type": "code",
   "execution_count": 21,
   "metadata": {
    "collapsed": false
   },
   "outputs": [
   ],
   "source": [
    "chemistry_puns = {\n",
    "    1: \"Why are chemists always happy in the lab? They are in their element.\",\n",
    "    2: \"Why does oxygen love pool parties? There are two Hydrogens for every Oxygen.\",\n",
    "    3: \"Why did the bear dissolve in water? It was a polar bear.\",\n",
    "    4: \"If Iron Man and Silver Surfer teamed up, they’d be alloys.\",\n",
    "    5: \"A neutron asks the bartender how much a drink costs. The bartender says, 'For you, no charge.'\",\n",
    "    6: \"If trees produced wifi we would be planting them everywhere, too bad they only produce oxygen.\",\n",
    "    7: \"People say I'm obsessed with chemistry jokes, 'beryllium' not… (But really I'm not)\",\n",
    "    8: \"Somewhere, in the universe, there is a world with no war, no hate, no hunger, and no poverty. And also no oxygen.\",\n",
    "    9: \"Wanna hear a joke about potassium? K\",\n",
    "    10: \"Oxygen and potassium went on a date. It went OK.\",\n",
    "    11: \"Henning Brand discovered phosphorous by boiling urine. That’s why they call it P.\",\n",
    "    12: \"What are the elements of life? Lithium and Iron = LiFe\",\n",
    "    13: \"Why do you only get bad chemistry jokes? The good ones Argon\",\n",
    "    14: \"What do you call someone who says that a Lithium and Argon atom bonded? A Li-Ar\",\n",
    "    15: \"Why did Oxygen leave his Chlorine girlfriend? She was toxic.\",\n",
    "    16: \"Why don’t people tell a lot of chemistry jokes? They are scared of the reaction.\",\n",
    "    17: \"How do you laugh at a Helium Joke? He He He\",\n",
    "    18: \"What do you do with dead Chemists? Barium [Ba]\",\n",
    "    19: \"What did the Chemist have with his eggs? Barium, Cobalt and Nitrogen (BaCoN)\",\n",
    "    20: \"What do you call Oxygen and Nitrogen training together? Air Conditioning\",\n",
    "    21: \"Oxygen and nitrogen joke\",\n",
    "    22: \"What happens when you eat aluminum? You sheet metal.\",\n",
    "    23: \"Why do chemists like nitrates so much? They’re cheaper than day rates.\",\n",
    "    24: \"How many particles are in one bowl of guacamole? Avocado’s number.\",\n",
    "    25: \"Have you seen the movie “The Fifth Element”? It’s boron.\",\n",
    "    26: \"If H2O is water; H202 is Hydrogen Peroxide; What is H204? Drinking.\",\n",
    "    27: \"A thread: Nitrogen thread joke\",\n",
    "    28: \"What do you call it when you catch a piece of plutonium in the ocean? Nuclear Fission.\",\n",
    "    29: \"What did the oxygen atom say to the beryllium atom? Sometimes you can be 2 positive. (Because beryllium has a 2+ charge)\",\n",
    "    30: \"Why can you never trust an atom? They make up everything.\",\n",
    "    31: \"What do you call a plant growing in a lab? A Chemis(tree).\",\n",
    "    32: \"When an element sees a theft to who does he report the crime? The Copper.\",\n",
    "    33: \"What happens to nitrogen in direct sunlight? It becomes daytrogen.\",\n",
    "    34: \"Why did the proton refuse to speak to the neutron? He was mad atom.\",\n",
    "    35: \"What is Cole’s Law? Thinly sliced cabbage.\",\n",
    "    36: \"Why are most plutonium elements upset when they turn 24000 years old? They have a midlife crisis.\",\n",
    "    37: \"What do you call a gun made of Sodium Chloride? A-salt rifle.\",\n",
    "    38: \"Why is ammonia an easy gas to teach about? Because it’s basic stuff.\",\n",
    "    39: \"Two hydrogen atoms walk into a bar. The one says: 'I’ve lost my electron.' 'Are you sure?' says the other one. The first one replies, 'Yes, I’m positive!'\",\n",
    "    40: \"Helium walks into a bar. The bartender says, 'We don’t serve noble gases here.' Helium doesn’t react...\"\n",
    "}"
   ]
  },
  {
   "cell_type": "code",
   "execution_count": 0,
   "metadata": {
    "collapsed": false
   },
   "outputs": [
   ],
   "source": [
   ]
  }
 ],
 "metadata": {
  "kernelspec": {
   "argv": [
    "/ext/jupyter/kernels/anaconda2022/launch.sh",
    "{connection_file}"
   ],
   "display_name": "Python 3 (Anaconda 2022)",
   "env": {
   },
   "language": "python",
   "metadata": {
    "cocalc": {
     "description": "Anaconda 2022.05 Python 3 environment",
     "priority": 5,
     "url": "https://www.anaconda.com/distribution/"
    }
   },
   "name": "anaconda2022",
   "resource_dir": "/ext/jupyter/kernels/anaconda2022"
  }
 },
 "nbformat": 4,
 "nbformat_minor": 4
}